{
 "cells": [
  {
   "cell_type": "code",
   "execution_count": 1,
   "id": "2a590d30",
   "metadata": {},
   "outputs": [
    {
     "ename": "NameError",
     "evalue": "name 'raw_input' is not defined",
     "output_type": "error",
     "traceback": [
      "\u001b[1;31m---------------------------------------------------------------------------\u001b[0m",
      "\u001b[1;31mNameError\u001b[0m                                 Traceback (most recent call last)",
      "\u001b[1;32m<ipython-input-1-d9cf60dc72b2>\u001b[0m in \u001b[0;36m<module>\u001b[1;34m\u001b[0m\n\u001b[1;32m----> 1\u001b[1;33m \u001b[0mN\u001b[0m \u001b[1;33m=\u001b[0m \u001b[0mint\u001b[0m\u001b[1;33m(\u001b[0m\u001b[0mraw_input\u001b[0m\u001b[1;33m(\u001b[0m\u001b[1;33m)\u001b[0m\u001b[1;33m)\u001b[0m\u001b[1;33m\u001b[0m\u001b[1;33m\u001b[0m\u001b[0m\n\u001b[0m\u001b[0;32m      2\u001b[0m \u001b[1;36m12\u001b[0m\u001b[1;33m\u001b[0m\u001b[1;33m\u001b[0m\u001b[0m\n",
      "\u001b[1;31mNameError\u001b[0m: name 'raw_input' is not defined"
     ]
    }
   ],
   "source": [
    "N = int(raw_input()) \n",
    "12\n"
   ]
  },
  {
   "cell_type": "code",
   "execution_count": 6,
   "id": "ff82a0b0",
   "metadata": {},
   "outputs": [
    {
     "name": "stdout",
     "output_type": "stream",
     "text": [
      "12\n"
     ]
    }
   ],
   "source": [
    "N = int(input())"
   ]
  },
  {
   "cell_type": "code",
   "execution_count": null,
   "id": "58d30cb2",
   "metadata": {},
   "outputs": [],
   "source": [
    " list = []\n",
    " for _ in range(N):\n",
    "      command =  input()\n",
    "      val = command.split(\" \")\n",
    "      cmd = val[0]\n",
    "      print(val[0])\n",
    "      if(cmd == 'insert'):\n",
    "        list.insert(int(val[1]),int(val[2]))\n",
    "      elif(cmd == 'print'):\n",
    "        print(list)\n",
    "      elif(cmd == 'remove'):\n",
    "        list.remove(int(val[1]))\n",
    "      elif(cmd == 'append'):\n",
    "        list.append(int(val[1]))\n",
    "      elif(cmd == 'sort'):\n",
    "        list.sort()\n",
    "      elif(cmd == 'pop'):\n",
    "        list.pop()\n",
    "      elif(cmd == 'reverse'):\n",
    "        list.reverse()\n",
    "        "
   ]
  },
  {
   "cell_type": "code",
   "execution_count": null,
   "id": "9e45c3ba",
   "metadata": {},
   "outputs": [],
   "source": [
    "n = int(raw_input())\n"
   ]
  },
  {
   "cell_type": "code",
   "execution_count": null,
   "id": "52e38622",
   "metadata": {},
   "outputs": [],
   "source": [
    "n = int(raw_input())\n",
    "\n",
    "lst = []\n",
    "lst2 = []\n",
    "mrks = []\n",
    "i=0"
   ]
  }
 ],
 "metadata": {
  "kernelspec": {
   "display_name": "Python 3",
   "language": "python",
   "name": "python3"
  },
  "language_info": {
   "codemirror_mode": {
    "name": "ipython",
    "version": 3
   },
   "file_extension": ".py",
   "mimetype": "text/x-python",
   "name": "python",
   "nbconvert_exporter": "python",
   "pygments_lexer": "ipython3",
   "version": "3.8.8"
  }
 },
 "nbformat": 4,
 "nbformat_minor": 5
}
