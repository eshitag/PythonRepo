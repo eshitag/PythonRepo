{
 "cells": [
  {
   "cell_type": "code",
   "execution_count": 2,
   "id": "2c3b21cf",
   "metadata": {},
   "outputs": [
    {
     "name": "stdout",
     "output_type": "stream",
     "text": [
      "3\n"
     ]
    }
   ],
   "source": [
    "n = int(input())\n"
   ]
  },
  {
   "cell_type": "code",
   "execution_count": null,
   "id": "f4448782",
   "metadata": {},
   "outputs": [],
   "source": [
    "lst = []\n",
    "mrks = []\n",
    "i=0"
   ]
  },
  {
   "cell_type": "markdown",
   "id": "e6c5688e",
   "metadata": {},
   "source": [
    "for i in range(n):\n",
    "    name = input()\n",
    "    marks = int(input())\n",
    "    mrks.append(marks)\n",
    "    lst.append([name,marks])"
   ]
  },
  {
   "cell_type": "code",
   "execution_count": null,
   "id": "619b641b",
   "metadata": {},
   "outputs": [],
   "source": [
    "for i in range(n):\n",
    "    name = input()\n",
    "    marks = int(input())\n",
    "    mrks.append(marks)\n",
    "    lst.append([name,marks])\n",
    "print(lst)"
   ]
  },
  {
   "cell_type": "code",
   "execution_count": null,
   "id": "f219430f",
   "metadata": {},
   "outputs": [],
   "source": [
    "mrks.remove(min(mrks))\n",
    "print(mrks)"
   ]
  },
  {
   "cell_type": "code",
   "execution_count": null,
   "id": "ac47634c",
   "metadata": {},
   "outputs": [],
   "source": []
  }
 ],
 "metadata": {
  "kernelspec": {
   "display_name": "Python 3",
   "language": "python",
   "name": "python3"
  },
  "language_info": {
   "codemirror_mode": {
    "name": "ipython",
    "version": 3
   },
   "file_extension": ".py",
   "mimetype": "text/x-python",
   "name": "python",
   "nbconvert_exporter": "python",
   "pygments_lexer": "ipython3",
   "version": "3.8.8"
  }
 },
 "nbformat": 4,
 "nbformat_minor": 5
}
