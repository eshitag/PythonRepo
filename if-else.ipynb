{
 "cells": [
  {
   "cell_type": "code",
   "execution_count": null,
   "id": "515906df",
   "metadata": {},
   "outputs": [],
   "source": [
    "if(190):\n",
    "    print(\"yes\")\n",
    "else:\n",
    "    print(\"no\")"
   ]
  },
  {
   "cell_type": "code",
   "execution_count": null,
   "id": "af70f59a",
   "metadata": {},
   "outputs": [],
   "source": [
    "a = int(input())"
   ]
  },
  {
   "cell_type": "code",
   "execution_count": null,
   "id": "cf5999ba",
   "metadata": {
    "scrolled": true
   },
   "outputs": [],
   "source": [
    "if(a%2==0):\n",
    " print(\"even\")\n",
    "else:\n",
    "    print(\"odd\")"
   ]
  },
  {
   "cell_type": "code",
   "execution_count": 1,
   "id": "eedbd76f",
   "metadata": {},
   "outputs": [
    {
     "name": "stdout",
     "output_type": "stream",
     "text": [
      "350\n"
     ]
    }
   ],
   "source": [
    "unit = int(input())\n"
   ]
  },
  {
   "cell_type": "code",
   "execution_count": 3,
   "id": "06949ebd",
   "metadata": {},
   "outputs": [
    {
     "name": "stdout",
     "output_type": "stream",
     "text": [
      "2000\n"
     ]
    }
   ],
   "source": [
    "if(unit<=100):\n",
    "    price = 0\n",
    "elif(unit>100 and unit<=200):\n",
    "    rest = unit-100\n",
    "    price = rest*5\n",
    "    total = price\n",
    "else:\n",
    "    rest = unit-100\n",
    "    rest = rest-100\n",
    "    price  = rest*10\n",
    "    total = price + 100*5\n",
    "print(total)    \n",
    "    \n",
    "    "
   ]
  },
  {
   "cell_type": "code",
   "execution_count": 10,
   "id": "5947f1db",
   "metadata": {},
   "outputs": [
    {
     "name": "stdout",
     "output_type": "stream",
     "text": [
      "86\n",
      "4\n"
     ]
    }
   ],
   "source": [
    "n = int(input())\n",
    "ab = int(input())"
   ]
  },
  {
   "cell_type": "code",
   "execution_count": 11,
   "id": "00d41780",
   "metadata": {},
   "outputs": [
    {
     "name": "stdout",
     "output_type": "stream",
     "text": [
      "95.34883720930233\n"
     ]
    }
   ],
   "source": [
    "pr = n-ab\n",
    "percentage = (pr/n)*100\n",
    "print(percentage)"
   ]
  },
  {
   "cell_type": "code",
   "execution_count": 12,
   "id": "6edb4c60",
   "metadata": {},
   "outputs": [
    {
     "name": "stdout",
     "output_type": "stream",
     "text": [
      "allowed in class\n"
     ]
    }
   ],
   "source": [
    "if(percentage<75):\n",
    "    print(\"student not allowed in class\")\n",
    "else:\n",
    "        print(\"allowed in class\")"
   ]
  },
  {
   "cell_type": "code",
   "execution_count": null,
   "id": "f18d5239",
   "metadata": {},
   "outputs": [],
   "source": [
    "n = int(input())\n"
   ]
  },
  {
   "cell_type": "code",
   "execution_count": null,
   "id": "35ba2af7",
   "metadata": {},
   "outputs": [],
   "source": [
    "if(n<=5):\n",
    "    charge = n*2\n",
    "elif(n>5 and n<=10):\n",
    "    rem = n-5\n",
    "    charge = 5*2 + rem*3\n",
    "elif(n>10 and n<=15):\n",
    "    rem = n-10\n",
    "    charge = 5*2 + 5*3 + rem*4\n",
    "elif(n>15):\n",
    "    rem = n-15\n",
    "    charge = 5*2 + 5*3 + 5*4 + rem*5\n",
    "print(charge)    "
   ]
  },
  {
   "cell_type": "code",
   "execution_count": null,
   "id": "20ba4126",
   "metadata": {},
   "outputs": [],
   "source": [
    "#leap year\n",
    "def is_leap(year):\n",
    "    if(year%4 == 0):\n",
    "        if(year%100 ==0):\n",
    "            if(year%400 == 0):\n",
    "                return True\n",
    "            else:\n",
    "                return False\n",
    "        else:\n",
    "            return False\n",
    "        else:\n",
    "            return False\n",
    "        \n",
    " is_leap(1800)       "
   ]
  },
  {
   "cell_type": "code",
   "execution_count": null,
   "id": "8884f017",
   "metadata": {},
   "outputs": [],
   "source": [
    "yr = int(input())\n",
    "if(yr%100 ==0):\n",
    "    if(yr%400 ==0):\n",
    "        print(\"yes\")\n",
    "    else:\n",
    "        print(\"no\")\n",
    "    else:\n",
    "        if(yr%4 == 0):\n",
    "            print(\"yes\")\n",
    "    else:\n",
    "        print(\"no\")"
   ]
  },
  {
   "cell_type": "code",
   "execution_count": null,
   "id": "70cf9b93",
   "metadata": {},
   "outputs": [],
   "source": []
  }
 ],
 "metadata": {
  "kernelspec": {
   "display_name": "Python 3",
   "language": "python",
   "name": "python3"
  },
  "language_info": {
   "codemirror_mode": {
    "name": "ipython",
    "version": 3
   },
   "file_extension": ".py",
   "mimetype": "text/x-python",
   "name": "python",
   "nbconvert_exporter": "python",
   "pygments_lexer": "ipython3",
   "version": "3.8.8"
  }
 },
 "nbformat": 4,
 "nbformat_minor": 5
}
